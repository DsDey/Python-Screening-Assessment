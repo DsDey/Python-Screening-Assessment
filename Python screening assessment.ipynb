{
 "cells": [
  {
   "cell_type": "code",
   "execution_count": 59,
   "id": "6757f7d5",
   "metadata": {},
   "outputs": [],
   "source": [
    "f = open(\"example.txt\", \"w\")\n",
    "f.write(\"This is a placement assignment\")\n",
    "f.close()"
   ]
  },
  {
   "cell_type": "code",
   "execution_count": 63,
   "id": "24dff618",
   "metadata": {},
   "outputs": [],
   "source": [
    "# Read in the file\n",
    "\n",
    "with open('example.txt', 'r') as file:\n",
    "    filedata = file.read()\n",
    "    \n",
    "    \n",
    "# Replace the target string\n",
    "\n",
    "filedata = filedata.replace('placement', 'screening')\n",
    "\n",
    "# Write the file out again\n",
    "\n",
    "with open(\"example.txt\", 'w') as file:\n",
    "    file.write(filedata)"
   ]
  },
  {
   "cell_type": "code",
   "execution_count": 71,
   "id": "40c18f06",
   "metadata": {},
   "outputs": [
    {
     "data": {
      "text/plain": [
       "'This is a screening assignment'"
      ]
     },
     "execution_count": 71,
     "metadata": {},
     "output_type": "execute_result"
    }
   ],
   "source": [
    "f.read()"
   ]
  },
  {
   "cell_type": "code",
   "execution_count": null,
   "id": "37c2db9f",
   "metadata": {},
   "outputs": [],
   "source": [
    "#Demonstration of Abstract CLass"
   ]
  },
  {
   "cell_type": "code",
   "execution_count": null,
   "id": "891acfc2",
   "metadata": {},
   "outputs": [],
   "source": [
    "# An abstract class is a class that holds an abstract method.\n",
    "# An abstract method is a method defined inside an abstract class."
   ]
  },
  {
   "cell_type": "code",
   "execution_count": null,
   "id": "fc01ffc0",
   "metadata": {},
   "outputs": [],
   "source": [
    "#Important Points about Abstract Class\n",
    "\n",
    "# 1. Abstract methods are defined in the abstract class. They mostly do not have the body, but it is possible to implement abstract methods in the abstract class\n",
    "# 2. The abstract class works as a template for other classes. \n",
    "# 3. An error will occur if the abstract method has not been implemented in the derived class."
   ]
  },
  {
   "cell_type": "code",
   "execution_count": 76,
   "id": "057b7424",
   "metadata": {},
   "outputs": [
    {
     "name": "stdout",
     "output_type": "stream",
     "text": [
      "42\n"
     ]
    }
   ],
   "source": [
    "#Code to describe Abstract Class\n",
    "\n",
    "# from abc import ABC, abstractmethod\n",
    "\n",
    "from abc import ABC, abstractmethod\n",
    "\n",
    "class Shape(ABC):\n",
    "    @abstractmethod\n",
    "    def printarea(self):\n",
    "        return 0\n",
    "\n",
    "class Rectangle(Shape):\n",
    "    type = \"Rectangle\"\n",
    "    sides = 4\n",
    "    def __init__(self):\n",
    "        self.length = 6\n",
    "        self.breadth = 7\n",
    "\n",
    "    def printarea(self):\n",
    "        return self.length * self.breadth\n",
    "\n",
    "rect1 = Rectangle()\n",
    "print(rect1.printarea())"
   ]
  },
  {
   "cell_type": "code",
   "execution_count": null,
   "id": "a570b4bf",
   "metadata": {},
   "outputs": [],
   "source": [
    "# Demonstration of Multiple Inheritance"
   ]
  },
  {
   "cell_type": "code",
   "execution_count": null,
   "id": "b803e4bb",
   "metadata": {},
   "outputs": [],
   "source": [
    "# In Multiple Inheritance, a class derived from more than one class i.e. multiple base classes. In the below mentioned example child class, has feature of both the parent class."
   ]
  },
  {
   "cell_type": "code",
   "execution_count": 1,
   "id": "6402ae2b",
   "metadata": {},
   "outputs": [
    {
     "name": "stdout",
     "output_type": "stream",
     "text": [
      "this is Base1 Class\n",
      "this is Base2 Class\n",
      "this is Base3 class\n"
     ]
    }
   ],
   "source": [
    "class Base1:\n",
    "    def func1(self):\n",
    "        print(\"this is Base1 Class\")\n",
    "        \n",
    "class Base2:\n",
    "    def func2(self):\n",
    "        print(\"this is Base2 Class\")\n",
    "        \n",
    "class Child(Base1, Base2):\n",
    "    def func3(self):\n",
    "        print(\"this is Base3 class\")\n",
    "        \n",
    "        \n",
    "obj = Child()\n",
    "obj.func1()\n",
    "obj.func2()\n",
    "obj.func3()"
   ]
  },
  {
   "cell_type": "code",
   "execution_count": null,
   "id": "47e4df89",
   "metadata": {},
   "outputs": [],
   "source": [
    "# Demonstration of Decorator"
   ]
  },
  {
   "cell_type": "code",
   "execution_count": null,
   "id": "42d7b94b",
   "metadata": {},
   "outputs": [],
   "source": [
    "# Decorator is like a Designer, which helps to modify function. Decorator takes a function and inserts some new functionality in it without changing the function itself.\\\n",
    "\n",
    "# Decorator function can make our work compact because we can oass all the functions to a decorator that requires the same sort of code.\n",
    "# We can get our work done without any alteration in the original code of our function."
   ]
  },
  {
   "cell_type": "code",
   "execution_count": 2,
   "id": "ce3bd165",
   "metadata": {},
   "outputs": [
    {
     "name": "stdout",
     "output_type": "stream",
     "text": [
      "Before function execution\n",
      "This is inside the function\n",
      "After function execution\n"
     ]
    }
   ],
   "source": [
    "def inner1(func):\n",
    "    def inner2():\n",
    "        print(\"Before function execution\");\n",
    "        func()\n",
    "        print(\"After function execution\")\n",
    "    return inner2\n",
    "\n",
    "@inner1\n",
    "def function_to_be_used():\n",
    "    print(\"This is inside the function\")\n",
    "    \n",
    "function_to_be_used()    "
   ]
  }
 ],
 "metadata": {
  "kernelspec": {
   "display_name": "Python 3 (ipykernel)",
   "language": "python",
   "name": "python3"
  },
  "language_info": {
   "codemirror_mode": {
    "name": "ipython",
    "version": 3
   },
   "file_extension": ".py",
   "mimetype": "text/x-python",
   "name": "python",
   "nbconvert_exporter": "python",
   "pygments_lexer": "ipython3",
   "version": "3.9.7"
  }
 },
 "nbformat": 4,
 "nbformat_minor": 5
}
